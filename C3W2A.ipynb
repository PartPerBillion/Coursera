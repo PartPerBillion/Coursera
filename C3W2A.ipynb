{
 "cells": [
  {
   "cell_type": "code",
   "execution_count": 21,
   "id": "4904764a-fcf0-4c7d-992b-30f3b553b7ef",
   "metadata": {},
   "outputs": [],
   "source": [
    "import io\n",
    "import pandas as pd\n",
    "import csv\n",
    "import tensorflow as tf\n",
    "import numpy as np\n",
    "from nltk.corpus import stopwords\n",
    "from tensorflow.keras.preprocessing.text import Tokenizer\n",
    "from tensorflow.keras.preprocessing.sequence import pad_sequences\n",
    "import matplotlib.pyplot as plt"
   ]
  },
  {
   "cell_type": "code",
   "execution_count": 28,
   "id": "929fbf1d-5485-48f8-9750-0df012fb0a93",
   "metadata": {},
   "outputs": [
    {
     "name": "stdout",
     "output_type": "stream",
     "text": [
      "ArticleId,Text,Category\n",
      "\n",
      "1833,worldcom ex-boss launches defence lawyers defending former worldcom chief bernie ebbers against a battery of fraud charges have called a company whistleblower as their first witness.  cynthia cooper  worldcom s ex-head of internal accounting  alerted directors to irregular accounting practices at the us telecoms giant in 2002. her warnings led to the collapse of the firm following the discovery of an $11bn (Â£5.7bn) accounting fraud. mr ebbers has pleaded not guilty to charges of fraud and conspiracy.  prosecution lawyers have argued that mr ebbers orchestrated a series of accounting tricks at worldcom  ordering employees to hide expenses and inflate revenues to meet wall street earnings estimates. but ms cooper  who now runs her own consulting business  told a jury in new york on wednesday that external auditors arthur andersen had approved worldcom s accounting in early 2001 and 2002. she said andersen had given a  green light  to the procedures and practices used by worldcom. mr ebber s lawyers have said he was unaware of the fraud  arguing that auditors did not alert him to any problems.  ms cooper also said that during shareholder meetings mr ebbers often passed over technical questions to the company s finance chief  giving only  brief  answers himself. the prosecution s star witness  former worldcom financial chief scott sullivan  has said that mr ebbers ordered accounting adjustments at the firm  telling him to  hit our books . however  ms cooper said mr sullivan had not mentioned  anything uncomfortable  about worldcom s accounting during a 2001 audit committee meeting. mr ebbers could face a jail sentence of 85 years if convicted of all the charges he is facing. worldcom emerged from bankruptcy protection in 2004  and is now known as mci. last week  mci agreed to a buyout by verizon communications in a deal valued at $6.75bn.,business\n",
      "\n"
     ]
    }
   ],
   "source": [
    "with open('BBC News Train.csv', 'r') as c:\n",
    "    print(c.readline())\n",
    "    print(c.readline())"
   ]
  },
  {
   "cell_type": "code",
   "execution_count": null,
   "id": "e6c499b2-b810-432a-8f16-d5c8b387705e",
   "metadata": {},
   "outputs": [],
   "source": [
    "vs = 1000\n",
    "ed = 16\n",
    "ml = 120\n",
    "ts = 0.8\n",
    "pt = 'post'\n",
    "ot = '<x>'"
   ]
  },
  {
   "cell_type": "code",
   "execution_count": 12,
   "id": "4d74c1f7-2301-4ff0-9b6a-3bb1e2b315e7",
   "metadata": {},
   "outputs": [],
   "source": [
    "def rsw(s):\n",
    "    sw = stopwords.words('english')\n",
    "    \n",
    "    s = s.lower()\n",
    "    s = s.split()\n",
    "    s = [w for w in s if w not in sw]\n",
    "    s = ' '.join(str(x) for x in s)\n",
    "    return s"
   ]
  },
  {
   "cell_type": "code",
   "execution_count": 13,
   "id": "a7b72bb8-3ff4-4f1b-bf0a-f4e9ce3af2ba",
   "metadata": {},
   "outputs": [
    {
     "data": {
      "text/plain": [
       "'google ml engineer'"
      ]
     },
     "execution_count": 13,
     "metadata": {},
     "output_type": "execute_result"
    }
   ],
   "source": [
    "rsw('I am a Google ML engineer')"
   ]
  },
  {
   "cell_type": "code",
   "execution_count": 14,
   "id": "c956d5ea-da18-4889-a6a0-1c5d62378c2c",
   "metadata": {},
   "outputs": [],
   "source": [
    "def par(f):\n",
    "    \n",
    "    s=[]\n",
    "    l=[]\n",
    "    with open(f,'r') as c:\n",
    "        r = csv.reader(c,delimiter=',')\n",
    "        next(r)\n",
    "        \n",
    "        for i in r:\n",
    "            i[1]=rsw(i[1])\n",
    "            s.append(i[1])\n",
    "            l.append(i[2])\n",
    "    return s,l"
   ]
  },
  {
   "cell_type": "code",
   "execution_count": 20,
   "id": "068234db-0cc6-4151-96c9-f0ebbf8f23d4",
   "metadata": {},
   "outputs": [],
   "source": [
    "s,l = par('BBC News Train.csv')"
   ]
  },
  {
   "cell_type": "code",
   "execution_count": 17,
   "id": "f7c16931-1a72-49e7-a475-323291997ade",
   "metadata": {},
   "outputs": [
    {
     "name": "stdout",
     "output_type": "stream",
     "text": [
      "1490\n",
      "193\n",
      "1490\n",
      "['business', 'business', 'business', 'tech', 'business', 'politics', 'sport', 'entertainment', 'business', 'entertainment']\n"
     ]
    }
   ],
   "source": [
    "print(len(s))\n",
    "print(len(s[0].split()))\n",
    "print(len(l))\n",
    "print(l[:10])"
   ]
  },
  {
   "cell_type": "code",
   "execution_count": 47,
   "id": "51441b11-3b50-4fcb-b654-c3cb08546021",
   "metadata": {},
   "outputs": [],
   "source": [
    "def tv(s,l):\n",
    "    \n",
    "    ts=1192\n",
    "    \n",
    "    rs=s[0:ts]\n",
    "    rl=l[0:ts]\n",
    "    \n",
    "    vs=s[ts:]\n",
    "    vl=l[ts:]\n",
    "    \n",
    "    return rs,vs,rl,vl"
   ]
  },
  {
   "cell_type": "code",
   "execution_count": 32,
   "id": "2cabb26e-774b-4448-97f4-b7db6df47cf4",
   "metadata": {},
   "outputs": [],
   "source": [
    "rs,vs,rl,vl = tv(s,l)"
   ]
  },
  {
   "cell_type": "code",
   "execution_count": 42,
   "id": "1fe94beb-1a74-4c03-8e3e-8b5664cd3a8a",
   "metadata": {},
   "outputs": [
    {
     "name": "stdout",
     "output_type": "stream",
     "text": [
      "1192\n",
      "1192\n",
      "298\n",
      "298\n"
     ]
    }
   ],
   "source": [
    "print(len(rs))\n",
    "print(len(rl))\n",
    "print(len(vs))\n",
    "print(len(vl))"
   ]
  },
  {
   "cell_type": "code",
   "execution_count": 52,
   "id": "62e422cc-a38c-4527-8fe7-580a12e5848e",
   "metadata": {},
   "outputs": [],
   "source": [
    "def tok(rs):\n",
    "    t = Tokenizer(num_words=1000,oov_token='<x>')\n",
    "    t.fit_on_texts(rs)\n",
    "    w = t.word_index\n",
    "    return t"
   ]
  },
  {
   "cell_type": "code",
   "execution_count": 53,
   "id": "049b16f4-d44f-48f7-9b66-bac07b3de215",
   "metadata": {},
   "outputs": [],
   "source": [
    "t = tok(rs)"
   ]
  },
  {
   "cell_type": "code",
   "execution_count": 54,
   "id": "08295397-ccbc-49eb-b6ab-8676fe5ef305",
   "metadata": {},
   "outputs": [],
   "source": [
    "def qp(t,s):\n",
    "    q = t.texts_to_sequences(s)\n",
    "    p = pad_sequences(q,maxlen = 120, padding = 'post')\n",
    "    return p"
   ]
  },
  {
   "cell_type": "code",
   "execution_count": 55,
   "id": "7a921a64-2271-4401-bcb5-c365c6fa3549",
   "metadata": {},
   "outputs": [],
   "source": [
    "rp = qp(t,rs)\n",
    "vp = qp(t,vs)"
   ]
  },
  {
   "cell_type": "code",
   "execution_count": 43,
   "id": "8c8acb2d-b8e1-4a41-8fe8-57a024f6c9f1",
   "metadata": {},
   "outputs": [],
   "source": [
    "def tokl(l,sl):\n",
    "    lt = Tokenizer(num_words=6)\n",
    "    lt.fit_on_texts(l)\n",
    "    lq = lt.texts_to_sequences(sl)\n",
    "    lq = np.array(lq,dtype=int)-1\n",
    "    return lq"
   ]
  },
  {
   "cell_type": "code",
   "execution_count": 44,
   "id": "107fb6f2-4941-4565-8be9-ad6f1211fa1c",
   "metadata": {},
   "outputs": [],
   "source": [
    "rlq = tokl(l,rl)\n",
    "vlq = tokl(l,vl)"
   ]
  },
  {
   "cell_type": "code",
   "execution_count": 56,
   "id": "9cc05c0a-8814-43e7-9c9d-3d6c52b54c21",
   "metadata": {},
   "outputs": [
    {
     "data": {
      "text/plain": [
       "array([[1],\n",
       "       [1],\n",
       "       [1],\n",
       "       [4],\n",
       "       [1]])"
      ]
     },
     "execution_count": 56,
     "metadata": {},
     "output_type": "execute_result"
    }
   ],
   "source": [
    "rlq[:5]"
   ]
  },
  {
   "cell_type": "code",
   "execution_count": 64,
   "id": "be166a2d-c172-47c1-bed5-0fb652b92c22",
   "metadata": {},
   "outputs": [],
   "source": [
    "def cm():\n",
    "    \n",
    "    tf.random.set_seed(123)\n",
    "    \n",
    "    m = tf.keras.Sequential([tf.keras.layers.Embedding(1000,16,input_length=120),\n",
    "                                tf.keras.layers.GlobalAveragePooling1D(),\n",
    "                                tf.keras.layers.Dense(6, activation='relu'),\n",
    "                                tf.keras.layers.Dense(5, activation='softmax')\n",
    "    ])\n",
    "    \n",
    "    m.compile(loss='sparse_categorical_crossentropy',\n",
    "                  optimizer='adam',\n",
    "                  metrics=['accuracy']) \n",
    "\n",
    "    return m"
   ]
  },
  {
   "cell_type": "code",
   "execution_count": 66,
   "id": "52471d6f-04e3-4553-9565-db8edd76d9c8",
   "metadata": {},
   "outputs": [
    {
     "name": "stdout",
     "output_type": "stream",
     "text": [
      "Epoch 1/30\n",
      "38/38 [==============================] - 2s 13ms/step - loss: 1.6040 - accuracy: 0.2576 - val_loss: 1.5992 - val_accuracy: 0.3792\n",
      "Epoch 2/30\n",
      "38/38 [==============================] - 0s 4ms/step - loss: 1.5896 - accuracy: 0.4010 - val_loss: 1.5839 - val_accuracy: 0.3893\n",
      "Epoch 3/30\n",
      "38/38 [==============================] - 0s 7ms/step - loss: 1.5683 - accuracy: 0.4203 - val_loss: 1.5618 - val_accuracy: 0.3658\n",
      "Epoch 4/30\n",
      "38/38 [==============================] - 0s 5ms/step - loss: 1.5379 - accuracy: 0.4295 - val_loss: 1.5293 - val_accuracy: 0.4295\n",
      "Epoch 5/30\n",
      "38/38 [==============================] - 0s 7ms/step - loss: 1.4953 - accuracy: 0.4664 - val_loss: 1.4821 - val_accuracy: 0.4597\n",
      "Epoch 6/30\n",
      "38/38 [==============================] - 0s 5ms/step - loss: 1.4367 - accuracy: 0.5025 - val_loss: 1.4223 - val_accuracy: 0.5168\n",
      "Epoch 7/30\n",
      "38/38 [==============================] - 0s 7ms/step - loss: 1.3636 - accuracy: 0.5638 - val_loss: 1.3511 - val_accuracy: 0.5604\n",
      "Epoch 8/30\n",
      "38/38 [==============================] - 0s 5ms/step - loss: 1.2822 - accuracy: 0.6242 - val_loss: 1.2712 - val_accuracy: 0.5940\n",
      "Epoch 9/30\n",
      "38/38 [==============================] - 0s 7ms/step - loss: 1.1974 - accuracy: 0.6619 - val_loss: 1.1919 - val_accuracy: 0.6477\n",
      "Epoch 10/30\n",
      "38/38 [==============================] - 0s 6ms/step - loss: 1.1131 - accuracy: 0.7173 - val_loss: 1.1148 - val_accuracy: 0.6745\n",
      "Epoch 11/30\n",
      "38/38 [==============================] - 0s 8ms/step - loss: 1.0331 - accuracy: 0.7257 - val_loss: 1.0437 - val_accuracy: 0.7114\n",
      "Epoch 12/30\n",
      "38/38 [==============================] - 0s 7ms/step - loss: 0.9587 - accuracy: 0.7383 - val_loss: 0.9771 - val_accuracy: 0.7148\n",
      "Epoch 13/30\n",
      "38/38 [==============================] - 0s 5ms/step - loss: 0.8908 - accuracy: 0.7500 - val_loss: 0.9144 - val_accuracy: 0.7248\n",
      "Epoch 14/30\n",
      "38/38 [==============================] - 0s 8ms/step - loss: 0.8276 - accuracy: 0.7517 - val_loss: 0.8588 - val_accuracy: 0.7315\n",
      "Epoch 15/30\n",
      "38/38 [==============================] - 0s 5ms/step - loss: 0.7696 - accuracy: 0.7626 - val_loss: 0.8055 - val_accuracy: 0.7483\n",
      "Epoch 16/30\n",
      "38/38 [==============================] - 0s 4ms/step - loss: 0.7163 - accuracy: 0.7643 - val_loss: 0.7592 - val_accuracy: 0.7517\n",
      "Epoch 17/30\n",
      "38/38 [==============================] - 0s 5ms/step - loss: 0.6654 - accuracy: 0.7760 - val_loss: 0.7148 - val_accuracy: 0.7651\n",
      "Epoch 18/30\n",
      "38/38 [==============================] - 0s 5ms/step - loss: 0.6188 - accuracy: 0.7995 - val_loss: 0.6726 - val_accuracy: 0.8020\n",
      "Epoch 19/30\n",
      "38/38 [==============================] - 0s 4ms/step - loss: 0.5743 - accuracy: 0.8372 - val_loss: 0.6350 - val_accuracy: 0.8087\n",
      "Epoch 20/30\n",
      "38/38 [==============================] - 0s 5ms/step - loss: 0.5332 - accuracy: 0.8591 - val_loss: 0.5989 - val_accuracy: 0.8255\n",
      "Epoch 21/30\n",
      "38/38 [==============================] - 0s 7ms/step - loss: 0.4950 - accuracy: 0.8809 - val_loss: 0.5660 - val_accuracy: 0.8423\n",
      "Epoch 22/30\n",
      "38/38 [==============================] - 0s 5ms/step - loss: 0.4582 - accuracy: 0.9010 - val_loss: 0.5350 - val_accuracy: 0.8557\n",
      "Epoch 23/30\n",
      "38/38 [==============================] - 0s 8ms/step - loss: 0.4243 - accuracy: 0.9128 - val_loss: 0.5073 - val_accuracy: 0.8691\n",
      "Epoch 24/30\n",
      "38/38 [==============================] - 0s 5ms/step - loss: 0.3928 - accuracy: 0.9287 - val_loss: 0.4791 - val_accuracy: 0.8859\n",
      "Epoch 25/30\n",
      "38/38 [==============================] - 0s 5ms/step - loss: 0.3626 - accuracy: 0.9346 - val_loss: 0.4536 - val_accuracy: 0.8993\n",
      "Epoch 26/30\n",
      "38/38 [==============================] - 0s 5ms/step - loss: 0.3346 - accuracy: 0.9471 - val_loss: 0.4308 - val_accuracy: 0.9094\n",
      "Epoch 27/30\n",
      "38/38 [==============================] - 0s 5ms/step - loss: 0.3083 - accuracy: 0.9488 - val_loss: 0.4083 - val_accuracy: 0.9128\n",
      "Epoch 28/30\n",
      "38/38 [==============================] - 0s 5ms/step - loss: 0.2841 - accuracy: 0.9522 - val_loss: 0.3886 - val_accuracy: 0.9362\n",
      "Epoch 29/30\n",
      "38/38 [==============================] - 0s 4ms/step - loss: 0.2620 - accuracy: 0.9606 - val_loss: 0.3709 - val_accuracy: 0.9262\n",
      "Epoch 30/30\n",
      "38/38 [==============================] - 0s 9ms/step - loss: 0.2413 - accuracy: 0.9681 - val_loss: 0.3544 - val_accuracy: 0.9329\n"
     ]
    }
   ],
   "source": [
    "m = cm()\n",
    "h = m.fit(rp,rlq,epochs=30,validation_data=(vp,vlq))"
   ]
  },
  {
   "cell_type": "code",
   "execution_count": 68,
   "id": "0e87ff1f-238f-4304-8184-e883f299d7ce",
   "metadata": {},
   "outputs": [
    {
     "data": {
      "image/png": "[encoded data removed]",
      "text/plain": [
       "<Figure size 432x288 with 1 Axes>"
      ]
     },
     "metadata": {
      "needs_background": "light"
     },
     "output_type": "display_data"
    },
    {
     "data": {
      "image/png": "[encoded data removed]",
      "text/plain": [
       "<Figure size 432x288 with 1 Axes>"
      ]
     },
     "metadata": {
      "needs_background": "light"
     },
     "output_type": "display_data"
    }
   ],
   "source": [
    "def pg(h, metric):\n",
    "    plt.plot(h.history[metric])\n",
    "    plt.plot(h.history[f'val_{metric}'])\n",
    "    plt.xlabel(\"Epochs\")\n",
    "    plt.ylabel(metric)\n",
    "    plt.legend([metric, f'val_{metric}'])\n",
    "    plt.show()\n",
    "    \n",
    "pg(h, \"accuracy\")\n",
    "pg(h, \"loss\")"
   ]
  },
  {
   "cell_type": "code",
   "execution_count": 69,
   "id": "88645b37-388d-443c-9f16-b7f2dea1bf74",
   "metadata": {},
   "outputs": [
    {
     "data": {
      "text/plain": [
       "(1000, 16)"
      ]
     },
     "execution_count": 69,
     "metadata": {},
     "output_type": "execute_result"
    }
   ],
   "source": [
    "rwi = t.index_word\n",
    "el = m.layers[0]\n",
    "ew = el.get_weights()[0]\n",
    "ew.shape"
   ]
  },
  {
   "cell_type": "code",
   "execution_count": 72,
   "id": "8f2b184b-3bd6-42fb-8315-d5e99f21a139",
   "metadata": {},
   "outputs": [],
   "source": [
    "ov = io.open('vecs.tsv', 'w', encoding='utf-8')\n",
    "om = io.open('meta.tsv', 'w', encoding='utf-8')\n",
    "for word_num in range(1, 1000):\n",
    "    wn = rwi[word_num]\n",
    "    we = ew[word_num]\n",
    "    om.write(wn + \"\\n\")\n",
    "    ov.write('\\t'.join([str(x) for x in we]) + \"\\n\")\n",
    "ov.close()\n",
    "om.close()"
   ]
  },
  {
   "cell_type": "code",
   "execution_count": null,
   "id": "b4adf03e-dcd0-44da-8465-0e9f51fb49d5",
   "metadata": {},
   "outputs": [],
   "source": []
  }
 ],
 "metadata": {
  "kernelspec": {
   "display_name": "Python 3 (ipykernel)",
   "language": "python",
   "name": "python3"
  },
  "language_info": {
   "codemirror_mode": {
    "name": "ipython",
    "version": 3
   },
   "file_extension": ".py",
   "mimetype": "text/x-python",
   "name": "python",
   "nbconvert_exporter": "python",
   "pygments_lexer": "ipython3",
   "version": "3.10.5"
  }
 },
 "nbformat": 4,
 "nbformat_minor": 5
}
