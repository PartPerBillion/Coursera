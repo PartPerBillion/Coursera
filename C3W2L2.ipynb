{
  "nbformat": 4,
  "nbformat_minor": 0,
  "metadata": {
    "colab": {
      "name": "C3W2L2.ipynb",
      "provenance": [],
      "collapsed_sections": []
    },
    "kernelspec": {
      "name": "python3",
      "display_name": "Python 3"
    },
    "language_info": {
      "name": "python"
    }
  },
  "cells": [
    {
      "cell_type": "code",
      "execution_count": 1,
      "metadata": {
        "colab": {
          "base_uri": "https://localhost:8080/"
        },
        "id": "A2-NfrZG_bVW",
        "outputId": "d3e1d41e-590c-433e-c672-91d1798367dc"
      },
      "outputs": [
        {
          "output_type": "stream",
          "name": "stdout",
          "text": [
            "--2022-06-30 14:25:23--  https://storage.googleapis.com/tensorflow-1-public/course3/sarcasm.json\n",
            "Resolving storage.googleapis.com (storage.googleapis.com)... 64.233.189.128, 108.177.97.128, 108.177.125.128, ...\n",
            "Connecting to storage.googleapis.com (storage.googleapis.com)|64.233.189.128|:443... connected.\n",
            "HTTP request sent, awaiting response... 200 OK\n",
            "Length: 5643545 (5.4M) [application/json]\n",
            "Saving to: ‘sarcasm.json’\n",
            "\n",
            "\rsarcasm.json          0%[                    ]       0  --.-KB/s               \rsarcasm.json        100%[===================>]   5.38M  --.-KB/s    in 0.03s   \n",
            "\n",
            "2022-06-30 14:25:23 (162 MB/s) - ‘sarcasm.json’ saved [5643545/5643545]\n",
            "\n"
          ]
        }
      ],
      "source": [
        "!wget https://storage.googleapis.com/tensorflow-1-public/course3/sarcasm.json"
      ]
    },
    {
      "cell_type": "code",
      "source": [
        "import json\n",
        "\n",
        "with open('./sarcasm.json','r') as f:\n",
        "  d = json.load(f)\n",
        "\n",
        "  s=[]\n",
        "  l=[]\n",
        "\n",
        "  for i in d:\n",
        "    s.append(i['headline'])\n",
        "    l.append(i['is_sarcastic'])"
      ],
      "metadata": {
        "id": "GPUcQvRYAoUO"
      },
      "execution_count": 2,
      "outputs": []
    },
    {
      "cell_type": "code",
      "source": [
        "ts = 20000\n",
        "vs = 10000\n",
        "ml = 32\n",
        "ed = 16"
      ],
      "metadata": {
        "id": "XWwmVjUhBhXu"
      },
      "execution_count": 4,
      "outputs": []
    },
    {
      "cell_type": "code",
      "source": [
        "tt = 'post'\n",
        "pt = tt\n",
        "ot = '<x>'"
      ],
      "metadata": {
        "id": "5G8wjyIoCWcX"
      },
      "execution_count": 6,
      "outputs": []
    },
    {
      "cell_type": "code",
      "source": [
        "rs = s[0:ts]\n",
        "es = s[ts:]\n",
        "\n",
        "rl = l[0:ts]\n",
        "el = l[ts:]"
      ],
      "metadata": {
        "id": "CXQ5Nj53B28J"
      },
      "execution_count": 5,
      "outputs": []
    },
    {
      "cell_type": "code",
      "source": [
        "import numpy as np\n",
        "from tensorflow.keras.preprocessing.text import Tokenizer\n",
        "from tensorflow.keras.preprocessing.sequence import pad_sequences\n",
        "\n",
        "t = Tokenizer(num_words=vs,oov_token=ot)\n",
        "t.fit_on_texts(rs)\n",
        "w = t.word_index\n",
        "\n",
        "q = t.texts_to_sequences(rs)\n",
        "p = pad_sequences(q,maxlen=ml,padding=pt,truncating=tt)\n",
        "\n",
        "eq = t.texts_to_sequences(es)\n",
        "ep = pad_sequences(eq,maxlen=ml,padding=pt,truncating=tt)\n",
        "\n",
        "rl = np.array(rl)\n",
        "el = np.array(el)"
      ],
      "metadata": {
        "id": "NJ2wbyYiCEUu"
      },
      "execution_count": 7,
      "outputs": []
    },
    {
      "cell_type": "code",
      "source": [
        "import tensorflow as tf\n",
        "g = tf.keras.layers.GlobalAveragePooling1D()\n",
        "\n",
        "sa = np.array([[[10,2],[1,3],[1,1]]])\n",
        "oa = g(sa)\n",
        "\n",
        "print(sa)\n",
        "print()\n",
        "print(oa)"
      ],
      "metadata": {
        "colab": {
          "base_uri": "https://localhost:8080/"
        },
        "id": "UBolaBdfEDGl",
        "outputId": "af06e439-4f42-4856-fd18-64fa70bd2d5a"
      },
      "execution_count": 12,
      "outputs": [
        {
          "output_type": "stream",
          "name": "stdout",
          "text": [
            "[[[10  2]\n",
            "  [ 1  3]\n",
            "  [ 1  1]]]\n",
            "\n",
            "tf.Tensor([[4 2]], shape=(1, 2), dtype=int64)\n"
          ]
        }
      ]
    },
    {
      "cell_type": "code",
      "source": [
        "m = tf.keras.Sequential([\n",
        "    tf.keras.layers.Embedding(vs,ed,input_length=ml),\n",
        "    tf.keras.layers.GlobalAveragePooling1D(),\n",
        "    tf.keras.layers.Dense(24,activation='relu'),\n",
        "    tf.keras.layers.Dense(1,activation='sigmoid')\n",
        "])\n",
        "\n",
        "m.compile(loss='binary_crossentropy',\n",
        "          optimizer='adam',\n",
        "          metrics=['accuracy'])\n",
        "\n",
        "m.summary()"
      ],
      "metadata": {
        "colab": {
          "base_uri": "https://localhost:8080/"
        },
        "id": "4RLwKSovFrtO",
        "outputId": "98568af3-eee6-4321-a7fa-f7ba28ece022"
      },
      "execution_count": 13,
      "outputs": [
        {
          "output_type": "stream",
          "name": "stdout",
          "text": [
            "Model: \"sequential\"\n",
            "_________________________________________________________________\n",
            " Layer (type)                Output Shape              Param #   \n",
            "=================================================================\n",
            " embedding (Embedding)       (None, 32, 16)            160000    \n",
            "                                                                 \n",
            " global_average_pooling1d_5   (None, 16)               0         \n",
            " (GlobalAveragePooling1D)                                        \n",
            "                                                                 \n",
            " dense (Dense)               (None, 24)                408       \n",
            "                                                                 \n",
            " dense_1 (Dense)             (None, 1)                 25        \n",
            "                                                                 \n",
            "=================================================================\n",
            "Total params: 160,433\n",
            "Trainable params: 160,433\n",
            "Non-trainable params: 0\n",
            "_________________________________________________________________\n"
          ]
        }
      ]
    },
    {
      "cell_type": "code",
      "source": [
        "ne = 30\n",
        "hist = m.fit(p,rl,epochs=ne,validation_data=(ep,el))"
      ],
      "metadata": {
        "colab": {
          "base_uri": "https://localhost:8080/"
        },
        "id": "NlovdwJ3GOQX",
        "outputId": "2c99601b-f8c2-485e-af64-6cf9ceddb296"
      },
      "execution_count": 14,
      "outputs": [
        {
          "output_type": "stream",
          "name": "stdout",
          "text": [
            "Epoch 1/30\n",
            "625/625 [==============================] - 4s 5ms/step - loss: 0.5553 - accuracy: 0.7051 - val_loss: 0.3912 - val_accuracy: 0.8404\n",
            "Epoch 2/30\n",
            "625/625 [==============================] - 3s 4ms/step - loss: 0.3091 - accuracy: 0.8730 - val_loss: 0.3419 - val_accuracy: 0.8526\n",
            "Epoch 3/30\n",
            "625/625 [==============================] - 3s 5ms/step - loss: 0.2318 - accuracy: 0.9090 - val_loss: 0.3424 - val_accuracy: 0.8535\n",
            "Epoch 4/30\n",
            "625/625 [==============================] - 3s 5ms/step - loss: 0.1866 - accuracy: 0.9302 - val_loss: 0.3695 - val_accuracy: 0.8475\n",
            "Epoch 5/30\n",
            "625/625 [==============================] - 3s 4ms/step - loss: 0.1551 - accuracy: 0.9424 - val_loss: 0.3868 - val_accuracy: 0.8508\n",
            "Epoch 6/30\n",
            "625/625 [==============================] - 3s 5ms/step - loss: 0.1298 - accuracy: 0.9554 - val_loss: 0.4287 - val_accuracy: 0.8441\n",
            "Epoch 7/30\n",
            "625/625 [==============================] - 3s 5ms/step - loss: 0.1108 - accuracy: 0.9623 - val_loss: 0.4792 - val_accuracy: 0.8360\n",
            "Epoch 8/30\n",
            "625/625 [==============================] - 4s 6ms/step - loss: 0.0965 - accuracy: 0.9671 - val_loss: 0.5285 - val_accuracy: 0.8308\n",
            "Epoch 9/30\n",
            "625/625 [==============================] - 3s 5ms/step - loss: 0.0833 - accuracy: 0.9736 - val_loss: 0.5461 - val_accuracy: 0.8353\n",
            "Epoch 10/30\n",
            "625/625 [==============================] - 2s 4ms/step - loss: 0.0712 - accuracy: 0.9766 - val_loss: 0.6051 - val_accuracy: 0.8299\n",
            "Epoch 11/30\n",
            "625/625 [==============================] - 2s 4ms/step - loss: 0.0625 - accuracy: 0.9813 - val_loss: 0.6423 - val_accuracy: 0.8292\n",
            "Epoch 12/30\n",
            "625/625 [==============================] - 3s 4ms/step - loss: 0.0546 - accuracy: 0.9837 - val_loss: 0.6934 - val_accuracy: 0.8240\n",
            "Epoch 13/30\n",
            "625/625 [==============================] - 3s 4ms/step - loss: 0.0484 - accuracy: 0.9861 - val_loss: 0.7480 - val_accuracy: 0.8216\n",
            "Epoch 14/30\n",
            "625/625 [==============================] - 2s 4ms/step - loss: 0.0424 - accuracy: 0.9880 - val_loss: 0.8293 - val_accuracy: 0.8179\n",
            "Epoch 15/30\n",
            "625/625 [==============================] - 2s 4ms/step - loss: 0.0363 - accuracy: 0.9895 - val_loss: 0.8599 - val_accuracy: 0.8174\n",
            "Epoch 16/30\n",
            "625/625 [==============================] - 2s 4ms/step - loss: 0.0323 - accuracy: 0.9914 - val_loss: 0.9252 - val_accuracy: 0.8153\n",
            "Epoch 17/30\n",
            "625/625 [==============================] - 3s 4ms/step - loss: 0.0292 - accuracy: 0.9911 - val_loss: 0.9940 - val_accuracy: 0.8119\n",
            "Epoch 18/30\n",
            "625/625 [==============================] - 3s 4ms/step - loss: 0.0254 - accuracy: 0.9931 - val_loss: 1.0454 - val_accuracy: 0.8117\n",
            "Epoch 19/30\n",
            "625/625 [==============================] - 3s 4ms/step - loss: 0.0238 - accuracy: 0.9924 - val_loss: 1.0938 - val_accuracy: 0.8110\n",
            "Epoch 20/30\n",
            "625/625 [==============================] - 3s 4ms/step - loss: 0.0199 - accuracy: 0.9945 - val_loss: 1.1637 - val_accuracy: 0.8113\n",
            "Epoch 21/30\n",
            "625/625 [==============================] - 3s 4ms/step - loss: 0.0186 - accuracy: 0.9941 - val_loss: 1.2227 - val_accuracy: 0.8089\n",
            "Epoch 22/30\n",
            "625/625 [==============================] - 3s 4ms/step - loss: 0.0160 - accuracy: 0.9958 - val_loss: 1.3027 - val_accuracy: 0.8082\n",
            "Epoch 23/30\n",
            "625/625 [==============================] - 3s 4ms/step - loss: 0.0134 - accuracy: 0.9965 - val_loss: 1.3780 - val_accuracy: 0.8037\n",
            "Epoch 24/30\n",
            "625/625 [==============================] - 2s 4ms/step - loss: 0.0124 - accuracy: 0.9963 - val_loss: 1.4351 - val_accuracy: 0.8053\n",
            "Epoch 25/30\n",
            "625/625 [==============================] - 2s 4ms/step - loss: 0.0130 - accuracy: 0.9962 - val_loss: 1.5006 - val_accuracy: 0.8053\n",
            "Epoch 26/30\n",
            "625/625 [==============================] - 2s 4ms/step - loss: 0.0122 - accuracy: 0.9965 - val_loss: 1.5582 - val_accuracy: 0.8067\n",
            "Epoch 27/30\n",
            "625/625 [==============================] - 3s 4ms/step - loss: 0.0111 - accuracy: 0.9965 - val_loss: 1.6269 - val_accuracy: 0.8050\n",
            "Epoch 28/30\n",
            "625/625 [==============================] - 2s 4ms/step - loss: 0.0088 - accuracy: 0.9976 - val_loss: 1.6851 - val_accuracy: 0.8052\n",
            "Epoch 29/30\n",
            "625/625 [==============================] - 3s 5ms/step - loss: 0.0075 - accuracy: 0.9978 - val_loss: 1.7366 - val_accuracy: 0.8038\n",
            "Epoch 30/30\n",
            "625/625 [==============================] - 3s 5ms/step - loss: 0.0093 - accuracy: 0.9966 - val_loss: 1.8220 - val_accuracy: 0.8055\n"
          ]
        }
      ]
    },
    {
      "cell_type": "code",
      "source": [
        "import matplotlib.pyplot as plt\n",
        "\n",
        "def pg(h,s):\n",
        "  plt.plot(h.history[s])\n",
        "  plt.plot(h.history['val_'+s])\n",
        "  plt.xlabel('Epochs')\n",
        "  plt.ylabel(s)\n",
        "  plt.legend([s,'val_'+s])\n",
        "  plt.show()\n",
        "\n",
        "pg(hist,'accuracy')\n",
        "pg(hist,'loss')"
      ],
      "metadata": {
        "colab": {
          "base_uri": "https://localhost:8080/",
          "height": 541
        },
        "id": "oAuUeoUeGbLR",
        "outputId": "61abfb57-760d-49b7-e1c6-9d1a5aeb0e23"
      },
      "execution_count": 15,
      "outputs": [
        {
          "output_type": "display_data",
          "data": {
            "text/plain": [
              "<Figure size 432x288 with 1 Axes>"
            ],
            "image/png": "[encoded data removed]"
          },
          "metadata": {
            "needs_background": "light"
          }
        },
        {
          "output_type": "display_data",
          "data": {
            "text/plain": [
              "<Figure size 432x288 with 1 Axes>"
            ],
            "image/png": "[encoded data removed]"
          },
          "metadata": {
            "needs_background": "light"
          }
        }
      ]
    },
    {
      "cell_type": "code",
      "source": [
        "rwi = t.index_word\n",
        "el = m.layers[0]\n",
        "ew = el.get_weights()[0]\n",
        "\n",
        "print(ew.shape)"
      ],
      "metadata": {
        "colab": {
          "base_uri": "https://localhost:8080/"
        },
        "id": "XGqwlqSLHLfm",
        "outputId": "543a8195-9771-441f-8467-bedfb50b6006"
      },
      "execution_count": 16,
      "outputs": [
        {
          "output_type": "stream",
          "name": "stdout",
          "text": [
            "(10000, 16)\n"
          ]
        }
      ]
    },
    {
      "cell_type": "code",
      "source": [
        "import io\n",
        "\n",
        "ov = io.open('vecs.tsv','w',encoding='utf-8')\n",
        "om = io.open('meta.tsv','w',encoding='utf-8')\n",
        "\n",
        "for i in range(1,vs):\n",
        "  wn = rwi[i]\n",
        "  we = ew[i]\n",
        "\n",
        "  om.write(wn+'\\n')\n",
        "  ov.write('\\t'.join([str(x) for x in we])+'\\n')\n",
        "  \n",
        "om.close()\n",
        "ov.close()"
      ],
      "metadata": {
        "id": "rl9adlGRHZ6Q"
      },
      "execution_count": 17,
      "outputs": []
    },
    {
      "cell_type": "code",
      "source": [
        "from google.colab import files\n",
        "files.download('vecs.tsv')\n",
        "files.download('meta.tsv')"
      ],
      "metadata": {
        "colab": {
          "base_uri": "https://localhost:8080/",
          "height": 17
        },
        "id": "A5A_OtKPIKQh",
        "outputId": "4e60499c-f516-4ba2-9909-1590e0eaac79"
      },
      "execution_count": 18,
      "outputs": [
        {
          "output_type": "display_data",
          "data": {
            "text/plain": [
              "<IPython.core.display.Javascript object>"
            ],
            "application/javascript": [
              "\n",
              "    async function download(id, filename, size) {\n",
              "      if (!google.colab.kernel.accessAllowed) {\n",
              "        return;\n",
              "      }\n",
              "      const div = document.createElement('div');\n",
              "      const label = document.createElement('label');\n",
              "      label.textContent = `Downloading \"${filename}\": `;\n",
              "      div.appendChild(label);\n",
              "      const progress = document.createElement('progress');\n",
              "      progress.max = size;\n",
              "      div.appendChild(progress);\n",
              "      document.body.appendChild(div);\n",
              "\n",
              "      const buffers = [];\n",
              "      let downloaded = 0;\n",
              "\n",
              "      const channel = await google.colab.kernel.comms.open(id);\n",
              "      // Send a message to notify the kernel that we're ready.\n",
              "      channel.send({})\n",
              "\n",
              "      for await (const message of channel.messages) {\n",
              "        // Send a message to notify the kernel that we're ready.\n",
              "        channel.send({})\n",
              "        if (message.buffers) {\n",
              "          for (const buffer of message.buffers) {\n",
              "            buffers.push(buffer);\n",
              "            downloaded += buffer.byteLength;\n",
              "            progress.value = downloaded;\n",
              "          }\n",
              "        }\n",
              "      }\n",
              "      const blob = new Blob(buffers, {type: 'application/binary'});\n",
              "      const a = document.createElement('a');\n",
              "      a.href = window.URL.createObjectURL(blob);\n",
              "      a.download = filename;\n",
              "      div.appendChild(a);\n",
              "      a.click();\n",
              "      div.remove();\n",
              "    }\n",
              "  "
            ]
          },
          "metadata": {}
        },
        {
          "output_type": "display_data",
          "data": {
            "text/plain": [
              "<IPython.core.display.Javascript object>"
            ],
            "application/javascript": [
              "download(\"download_09a6918b-2844-486c-8056-7dfc5db6540f\", \"vecs.tsv\", 1844066)"
            ]
          },
          "metadata": {}
        },
        {
          "output_type": "display_data",
          "data": {
            "text/plain": [
              "<IPython.core.display.Javascript object>"
            ],
            "application/javascript": [
              "\n",
              "    async function download(id, filename, size) {\n",
              "      if (!google.colab.kernel.accessAllowed) {\n",
              "        return;\n",
              "      }\n",
              "      const div = document.createElement('div');\n",
              "      const label = document.createElement('label');\n",
              "      label.textContent = `Downloading \"${filename}\": `;\n",
              "      div.appendChild(label);\n",
              "      const progress = document.createElement('progress');\n",
              "      progress.max = size;\n",
              "      div.appendChild(progress);\n",
              "      document.body.appendChild(div);\n",
              "\n",
              "      const buffers = [];\n",
              "      let downloaded = 0;\n",
              "\n",
              "      const channel = await google.colab.kernel.comms.open(id);\n",
              "      // Send a message to notify the kernel that we're ready.\n",
              "      channel.send({})\n",
              "\n",
              "      for await (const message of channel.messages) {\n",
              "        // Send a message to notify the kernel that we're ready.\n",
              "        channel.send({})\n",
              "        if (message.buffers) {\n",
              "          for (const buffer of message.buffers) {\n",
              "            buffers.push(buffer);\n",
              "            downloaded += buffer.byteLength;\n",
              "            progress.value = downloaded;\n",
              "          }\n",
              "        }\n",
              "      }\n",
              "      const blob = new Blob(buffers, {type: 'application/binary'});\n",
              "      const a = document.createElement('a');\n",
              "      a.href = window.URL.createObjectURL(blob);\n",
              "      a.download = filename;\n",
              "      div.appendChild(a);\n",
              "      a.click();\n",
              "      div.remove();\n",
              "    }\n",
              "  "
            ]
          },
          "metadata": {}
        },
        {
          "output_type": "display_data",
          "data": {
            "text/plain": [
              "<IPython.core.display.Javascript object>"
            ],
            "application/javascript": [
              "download(\"download_28002d10-c120-40df-97f1-15e9ea69ffa9\", \"meta.tsv\", 75972)"
            ]
          },
          "metadata": {}
        }
      ]
    }
  ]
}